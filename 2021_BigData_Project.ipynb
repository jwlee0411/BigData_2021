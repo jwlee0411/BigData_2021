{
  "nbformat": 4,
  "nbformat_minor": 0,
  "metadata": {
    "colab": {
      "name": "2021_BigData_Project.ipynb",
      "provenance": [],
      "include_colab_link": true
    },
    "kernelspec": {
      "name": "python3",
      "display_name": "Python 3"
    },
    "language_info": {
      "name": "python"
    }
  },
  "cells": [
    {
      "cell_type": "markdown",
      "metadata": {
        "id": "view-in-github",
        "colab_type": "text"
      },
      "source": [
        "<a href=\"https://colab.research.google.com/github/sunrinint/BigData_2021/blob/main/2021_BigData_Project.ipynb\" target=\"_parent\"><img src=\"https://colab.research.google.com/assets/colab-badge.svg\" alt=\"Open In Colab\"/></a>"
      ]
    },
    {
      "cell_type": "markdown",
      "metadata": {
        "id": "eEcpYT54Taof"
      },
      "source": [
        "# **행복 지수가 높은 나라들은 잘 사는 나라일까?**\n",
        "\n",
        "국가별(총 222개의 국가)의 각종 데이터(GDP, 기대 수명, 삶의 자유도, 부정부패, 관용, 사회적 지원)와 행복지수 간의 상관관계를 알아본다.\n",
        "\n",
        "---"
      ]
    },
    {
      "cell_type": "markdown",
      "metadata": {
        "id": "KDRAe_dUEzQc"
      },
      "source": [
        "\n",
        "### 역할\n",
        "- 30504 김제유 : 데이터 분석, 보고서 작성\n",
        "- 30615 이종우 : 데이터 분석, 보고서 작성"
      ]
    },
    {
      "cell_type": "markdown",
      "metadata": {
        "id": "lWStPrVDE21M"
      },
      "source": [
        "### 목차\n",
        "- 문제 정의\n",
        "\n",
        "- 데이터 전처리\n",
        " - 데이터 정의\n",
        " - Excel을 통한 .csv 데이터 전처리\n",
        " - Python을 통한 데이터 전처리\n",
        "\n",
        "- 표현 방법 설계\n",
        "\n",
        "- 구현\n",
        " - 구현 방법\n",
        " - 구현 내용\n",
        " - 오류 발견 및 수정\n",
        "\n",
        "- 결과 분석\n",
        "\n",
        "- 느낀 점\n",
        "\n",
        "- 출처\n"
      ]
    },
    {
      "cell_type": "markdown",
      "metadata": {
        "id": "B9gStxxy_4g9"
      },
      "source": [
        "1. 문제 정의\n",
        " - 데이터 \n",
        "\n",
        "\n",
        " - 국가별 행복 지수와 GDP 간에는 어떤 관계가 있을까?\n",
        "\n",
        " - 각종 데이터를 모두 조합해 "
      ]
    },
    {
      "cell_type": "markdown",
      "metadata": {
        "id": "2DUB03g4A_9a"
      },
      "source": [
        "2. 데이터 전처리\n",
        " - 각 Column에 해당하는 데이터의 의미를 알아본다."
      ]
    },
    {
      "cell_type": "markdown",
      "metadata": {
        "id": "MT0KituJCQzV"
      },
      "source": [
        "굵은 텍스트 - Country Name : 국가 이름\n",
        " - Regional Indicator : 대륙 구분\n",
        " - ladder score : 0~10까지 자신의 삶에 대한 만족도 비율\n",
        " - Standard error of ladder score : ladder score의 표준 편차\n",
        " - upper whisker : 상위 25%의 값\n",
        " - lower whisker : 하위 25%의 값\n",
        " - Logged GDP per capita : 1인당 GDP 로그 값\n",
        " - Healthy life expectancy : 기대 수명\n",
        " - Freedom to make life choices : 삶의 선택 (의사 결정) 자유도\n",
        " - Generosity : 관대함\n",
        " - Perceptions of corruption : 부정부패 인식 정도\n",
        " - Ladder score in Dystopia : 최악의 상황에서의 ladder score\n",
        " - Explained by (?) : 잘모르겠음"
      ]
    },
    {
      "cell_type": "code",
      "metadata": {
        "id": "W66KtLTQB-8I"
      },
      "source": [
        "(데이터 전처리 관련 코드)"
      ],
      "execution_count": null,
      "outputs": []
    },
    {
      "cell_type": "markdown",
      "metadata": {
        "id": "yIENYug3DVv6"
      },
      "source": [
        "3. 표현 방법 설계\n",
        "- ㅁㄴㅇ럼ㅇ"
      ]
    },
    {
      "cell_type": "markdown",
      "metadata": {
        "id": "7X3i5vMICkqN"
      },
      "source": [
        "4. 구현\n",
        "- 구현 방법\n",
        " - 데이터 전처리 : Excel\n",
        " - 데이터 분석 : Python(라이브러리 ___ 사용)\n",
        " - 데이터 시각화 : Python(matplotlib 사용)\n",
        " \n",
        "- 구현 내용"
      ]
    },
    {
      "cell_type": "code",
      "metadata": {
        "id": "2A7sm1MpC_GK"
      },
      "source": [
        "(구현한 코드)"
      ],
      "execution_count": null,
      "outputs": []
    },
    {
      "cell_type": "markdown",
      "metadata": {
        "id": "k7dqEXIHC84F"
      },
      "source": [
        "* 오류 발견 및 수정\n",
        " - (발생한 오류의 내용)"
      ]
    },
    {
      "cell_type": "code",
      "metadata": {
        "id": "HuhwzwTcDMp4"
      },
      "source": [
        "(수정한 코드)"
      ],
      "execution_count": null,
      "outputs": []
    },
    {
      "cell_type": "markdown",
      "metadata": {
        "id": "okaJudgGDahk"
      },
      "source": [
        "5. 결과 분석\n",
        "- 아래 코드를 통해 도출해낸 결과는 다음과 같다.\n",
        " - (대충 뭐 그렇다)"
      ]
    },
    {
      "cell_type": "code",
      "metadata": {
        "id": "KRn-JhnBDmp8"
      },
      "source": [
        "(최종적으로 깔끔하게 시각화한 코드)"
      ],
      "execution_count": null,
      "outputs": []
    },
    {
      "cell_type": "markdown",
      "metadata": {
        "id": "DyKgCpUrDmek"
      },
      "source": [
        "- 최적의 표현 방법\n",
        " - 구현 및 결과 분석 단계에서 살펴본 것과 같이, 산점도 그래프를 통해 표현하는 것이 표현하고자 하는 바를 가장 잘 표현할 수 있었다.\n",
        "\n",
        "\n",
        "\n",
        "6. 느낀 점\n",
        "- 김제유 : 재미있었다.\n",
        "- 이종우 : 빅데이터 수업 및 프로젝트를 통해 데이터의 분석 능력과 프로그래밍 능력을 기를 수 있었고, 간단한 과정을 통해 생활 속에서 발생하는 데이터를 분석해 볼 수 있겠다는 생각을 가지게 되었다. 기회가 된다면 이러한 프로젝트를 또 하고 싶다.\n",
        "\n",
        "\n",
        "\n",
        "7. 출처\n",
        "- (데이터 출처)\n",
        "\n",
        "\n"
      ]
    },
    {
      "cell_type": "markdown",
      "metadata": {
        "id": "IV-xQm5UUcp-"
      },
      "source": [
        "```\n",
        "1) 시각화를 이용한 탐색적 데이터 분석(필수)\n",
        "단계\n",
        "단계별 주요 내용\n",
        "문제 정의\n",
        "-데이터 탐색 및 수집\n",
        "-다양한 문제 생성: 시각화를 통해 나타내고자 하는 것은 무엇인가?\n",
        "-시각화 목적 분류(비교/관계/분포/구성요소/지도)\n",
        "-문제 정교화\n",
        "데이터 전처리\n",
        "-데이터 선택 및 제거\n",
        "-데이터 클렌징 및 변환\n",
        "표현 방법 설계\n",
        "-다양한 시각화 표현 방법 선택: 어떤 그래프를 사용하여 나타낼 것인가?\n",
        "-시각화 기능적 요소 선택: 제목, x축/y축 이름, 범위, 레이블, 범례, 그리드\n",
        "-시각화 디자인적 요소 선택: 색상, 배치, 글자 크기, 그래프 크기\n",
        "구현\n",
        "-시각화 구현: 파이썬 시각화 라이브러리(matplotlib, seaborn, plotly 등 다양하게 사용)\n",
        "-오류 발견 및 수정\n",
        "결과 분석\n",
        "-시각화 결과 분석: 시각화 결과에 대한 설명/ 엑셀 데이터를 시각화해서 나타내었을 때, 새롭게 알게 된 점\n",
        "-최적의 표현 방법 선택: 여러 그래프로 나타내었을 때 최적의 그래프는? 왜?\n",
        "```"
      ]
    },
    {
      "cell_type": "markdown",
      "metadata": {
        "id": "b5yZzsxFE-w4"
      },
      "source": [
        "```\n",
        "- 문제 정의 : 행복 지수가 높은 나라들은 잘 사는 나라일까?\n",
        "\n",
        " - 소제목 : 국민들의 주관적인 응답을 바탕으로 한 행복 지수와 그 국가의 국민들에 삶에 영향을 줄 수 있는 수치 간의 관계를 조사해본다.\n",
        " - ex) 데이터(GDP, 기대 수명, 삶의 자유도, 부정부패, 관용, 사회적 지원)\n",
        "\n",
        "- 데이터 전처리\n",
        "  - 행복 지수(ladder score)와 다른 여섯 가지 요소(Logged GDP per capita, Social support, Healthy life expectancy, Freedom to make decision, Generosity, Perceptions of corruption)을 비교해본다.\n",
        "\n",
        "- 표현 방법 설계\n",
        " - 산점도 그래프를 그려서 값의 일정한 연관성을 찾아낸다.\n",
        "\n",
        "- 구현\n",
        " - 파이썬으로 구현한다.\n",
        "\n",
        "- 결과 분석\n",
        " - 재밌었다.\n",
        " ```"
      ]
    }
  ]
}